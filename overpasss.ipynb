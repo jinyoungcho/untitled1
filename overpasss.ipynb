{
 "cells": [
  {
   "cell_type": "code",
   "execution_count": 1,
   "metadata": {
    "collapsed": true
   },
   "outputs": [],
   "source": [
    "from overpass import API\n",
    "import numpy as np\n",
    "import networkx as nx\n",
    "import matplotlib.pyplot as plt\n",
    "from collections import defaultdict\n",
    "from geopy.distance import vincenty"
   ]
  },
  {
   "cell_type": "code",
   "execution_count": 2,
   "metadata": {},
   "outputs": [],
   "source": [
    "api = API()\n",
    "response = api.Get('way[\"highway\"][\"highway\"!~\"footway|cycleway|path|service|track|pedestrian|steps|crossing\"](40.751872, -73.994120 ,40.752353, -73.989678);')"
   ]
  },
  {
   "cell_type": "code",
   "execution_count": 3,
   "metadata": {},
   "outputs": [],
   "source": [
    "node_dic={}\n",
    "x = 0\n",
    "for features in response['features']:\n",
    "    for coordinate in features['geometry']['coordinates']:\n",
    "        # print(x, j[1], j[0])\n",
    "        node_dic[x] = (coordinate[1], coordinate[0])\n",
    "        x += 1"
   ]
  },
  {
   "cell_type": "code",
   "execution_count": 4,
   "metadata": {},
   "outputs": [],
   "source": [
    "cor_dic=defaultdict(list)\n",
    "for node_num in node_dic:\n",
    "    cor_dic[node_dic[node_num]].append(node_num)"
   ]
  },
  {
   "cell_type": "code",
   "execution_count": 5,
   "metadata": {
    "collapsed": false
   },
   "outputs": [
    {
     "data": {
      "text/plain": [
       "{0: (40.749102, -73.984076),\n 1: (40.7504072, -73.9871631),\n 2: (40.750458, -73.9872889),\n 3: (40.7506202, -73.9876732),\n 4: (40.7506639, -73.9877768),\n 5: (40.7507266, -73.9879255),\n 6: (40.7516588, -73.9901341),\n 7: (40.7528582, -73.9929759),\n 8: (40.7540155, -73.9957182),\n 9: (40.7540684, -73.995845),\n 10: (40.7546186, -73.997152),\n 11: (40.7546525, -73.9972277),\n 12: (40.7552114, -73.9966605),\n 13: (40.755102, -73.9963996),\n 14: (40.7546795, -73.995396),\n 15: (40.7546287, -73.9952703),\n 16: (40.7534779, -73.9925251),\n 17: (40.7530724, -73.9915577),\n 18: (40.7522886, -73.9896878),\n 19: (40.7514288, -73.9876368),\n 20: (40.751088, -73.9868238),\n 21: (40.74658, -73.9975495),\n 22: (40.7472035, -73.9970954),\n 23: (40.7478218, -73.9966452),\n 24: (40.7484275, -73.996204),\n 25: (40.7490521, -73.9957492),\n 26: (40.7496742, -73.9952961),\n 27: (40.7502936, -73.9948451),\n 28: (40.7515147, -73.9939557),\n 29: (40.7521959, -73.9934596),\n 30: (40.7521959, -73.9934596),\n 31: (40.7528582, -73.9929759),\n 32: (40.7534779, -73.9925251),\n 33: (40.754091, -73.992079),\n 34: (40.754707, -73.991633),\n 35: (40.75533, -73.991177),\n 36: (40.7510002, -73.990617),\n 37: (40.751874, -73.9926944),\n 38: (40.7521959, -73.9934596),\n 39: (40.7521959, -73.9934596),\n 40: (40.7526764, -73.9946019),\n 41: (40.7533564, -73.9962185),\n 42: (40.753403, -73.9963293),\n 43: (40.752895, -73.989243),\n 44: (40.7522886, -73.9896878),\n 45: (40.7516588, -73.9901341),\n 46: (40.7510002, -73.990617)}"
      ]
     },
     "execution_count": 5,
     "metadata": {},
     "output_type": "execute_result"
    }
   ],
   "source": [
    "node_dic"
   ]
  },
  {
   "cell_type": "code",
   "execution_count": 6,
   "metadata": {
    "collapsed": true
   },
   "outputs": [
    {
     "data": {
      "text/plain": [
       "defaultdict(list,\n            {(40.74658, -73.9975495): [21],\n             (40.7472035, -73.9970954): [22],\n             (40.7478218, -73.9966452): [23],\n             (40.7484275, -73.996204): [24],\n             (40.7490521, -73.9957492): [25],\n             (40.749102, -73.984076): [0],\n             (40.7496742, -73.9952961): [26],\n             (40.7502936, -73.9948451): [27],\n             (40.7504072, -73.9871631): [1],\n             (40.750458, -73.9872889): [2],\n             (40.7506202, -73.9876732): [3],\n             (40.7506639, -73.9877768): [4],\n             (40.7507266, -73.9879255): [5],\n             (40.7510002, -73.990617): [36, 46],\n             (40.751088, -73.9868238): [20],\n             (40.7514288, -73.9876368): [19],\n             (40.7515147, -73.9939557): [28],\n             (40.7516588, -73.9901341): [6, 45],\n             (40.751874, -73.9926944): [37],\n             (40.7521959, -73.9934596): [29, 30, 38, 39],\n             (40.7522886, -73.9896878): [18, 44],\n             (40.7526764, -73.9946019): [40],\n             (40.7528582, -73.9929759): [7, 31],\n             (40.752895, -73.989243): [43],\n             (40.7530724, -73.9915577): [17],\n             (40.7533564, -73.9962185): [41],\n             (40.753403, -73.9963293): [42],\n             (40.7534779, -73.9925251): [16, 32],\n             (40.7540155, -73.9957182): [8],\n             (40.7540684, -73.995845): [9],\n             (40.754091, -73.992079): [33],\n             (40.7546186, -73.997152): [10],\n             (40.7546287, -73.9952703): [15],\n             (40.7546525, -73.9972277): [11],\n             (40.7546795, -73.995396): [14],\n             (40.754707, -73.991633): [34],\n             (40.755102, -73.9963996): [13],\n             (40.7552114, -73.9966605): [12],\n             (40.75533, -73.991177): [35]})"
      ]
     },
     "execution_count": 6,
     "metadata": {},
     "output_type": "execute_result"
    }
   ],
   "source": [
    "cor_dic"
   ]
  },
  {
   "cell_type": "code",
   "execution_count": 7,
   "metadata": {},
   "outputs": [],
   "source": [
    "node_size = len(node_dic)\n",
    "arc_list = np.zeros((node_size,node_size),dtype='int')\n",
    "distance_list= np.zeros((node_size,node_size),dtype='float')"
   ]
  },
  {
   "cell_type": "code",
   "execution_count": 8,
   "metadata": {
    "collapsed": true
   },
   "outputs": [
    {
     "name": "stdout",
     "output_type": "stream",
     "text": [
      "{'highway': 'unclassified', 'tiger:name_direction_prefix_1': 'W', 'name': 'West 35 Street', 'tiger:name_base': '35th', 'tiger:name_base_1': '35', 'tiger:cfcc': 'A41', 'tiger:name_type': 'St', 'tiger:zip_left': '10001', 'tiger:name_type_1': 'St', 'tiger:zip_right': '10001', 'tiger:reviewed': 'no', 'oneway': 'yes', 'tiger:name_direction_prefix': 'W', 'tiger:county': 'New York, NY'}\n{'highway': 'secondary', 'tiger:name_base_1': '36', 'name': 'West 36th Street', 'tiger:name_base': '36th', 'tiger:cfcc': 'A41', 'tiger:name_type_1': 'St', 'tiger:name_type': 'St', 'tiger:zip_left': '10018', 'tiger:name_direction_prefix_1': 'W', 'hgv': 'destination', 'tiger:zip_right': '10018', 'name_1': 'West 36 Street', 'tiger:reviewed': 'no', 'oneway': 'yes', 'tiger:name_direction_prefix': 'W', 'tiger:county': 'New York, NY'}\n{'cycleway:left': 'track', 'highway': 'secondary', 'tiger:name_base_1': '8', 'name': '8th Avenue', 'tiger:name_base': '8th', 'tiger:cfcc': 'A41', 'wikipedia': 'en:Eighth Avenue (Manhattan)', 'tiger:name_type_1': 'Ave', 'bicycle': 'yes', 'hgv': 'local', 'tiger:reviewed': 'no', 'oneway': 'yes', 'tiger:name_type': 'Ave', 'tiger:county': 'New York, NY', 'wikidata': 'Q109951'}\n{'highway': 'secondary', 'tiger:name_base_1': '8', 'name': '8th Avenue', 'tiger:name_base': '8th', 'wikidata': 'Q109951', 'tiger:cfcc': 'A41', 'tiger:reviewed': 'no', 'wikipedia': 'en:Eighth Avenue (Manhattan)', 'tiger:name_type_1': 'Ave', 'surface': 'asphalt', 'bicycle': 'yes', 'hgv': 'local', 'oneway': 'yes', 'lit': 'yes', 'name_1': '8 Avenue', 'maxspeed': '30 mph', 'cycleway:left': 'track', 'lanes': '3', 'tiger:name_type': 'Ave', 'tiger:county': 'New York, NY', 'smoothness': 'good'}\n{'highway': 'primary', 'source:hgv': 'Rules of the City of New York Title 34 §4-13 http://24.97.137.100/nyc/rcny/Title34_4-13.asp', 'name': 'West 34th Street', 'tiger:name_base': '34th', 'tiger:cfcc': 'A41', 'access': 'yes', 'tiger:name_type': 'St', 'tiger:zip_left': '10001', 'foot': 'designated', 'hgv': 'designated', 'tiger:zip_right': '10001', 'tiger:reviewed': 'no', 'surface': 'paved', 'lanes': '6', 'tiger:name_direction_prefix': 'W', 'tiger:county': 'New York, NY'}\n{'sidewalk': 'both', 'tiger:zip_right': '10019', 'highway': 'secondary', 'tiger:name_base_1': '7', 'name': '7th Avenue', 'tiger:name_base': '7th', 'tiger:cfcc': 'A41', 'tiger:reviewed': 'no', 'tiger:zip_left': '10019', 'tiger:name_type_1': 'Ave', 'hgv': 'destination', 'lit': 'yes', 'surface': 'asphalt', 'maxspeed': '25 mph', 'oneway': 'yes', 'tiger:name_type': 'Ave', 'tiger:county': 'New York, NY'}\n"
     ]
    }
   ],
   "source": [
    "x =0\n",
    "for feature in response['features']:\n",
    "    try:\n",
    "        if feature['properties']['oneway'] =='yes':\n",
    "            print(feature['properties'])\n",
    "            for i, coordinate in enumerate(feature['geometry']['coordinates']):\n",
    "                if i != len(feature['geometry']['coordinates']) - 1:\n",
    "                    arc_list[cor_dic[node_dic[x]][0]][cor_dic[node_dic[x + 1]][0]] += 1\n",
    "\n",
    "                    distance = vincenty(node_dic[x],node_dic[x + 1]).km*100 #미터단위\n",
    "                    distance_list[cor_dic[node_dic[x]][0]][[cor_dic[node_dic[x + 1]][0]]] = distance\n",
    "                    # print(\"단방향\" ,node_dic[x], cor_dic[node_dic[x]], node_dic[x + 1], cor_dic[node_dic[x + 1]])\n",
    "                x += 1\n",
    "    except:\n",
    "        # print(feature['properties'])\n",
    "        for i, coordinate in enumerate(feature['geometry']['coordinates']):\n",
    "            if i != len(feature['geometry']['coordinates']) - 1:\n",
    "                arc_list[cor_dic[node_dic[x]][0]][cor_dic[node_dic[x + 1]][0]] += 1\n",
    "                arc_list[cor_dic[node_dic[x + 1]][0]][cor_dic[node_dic[x]][0]] += 1\n",
    "\n",
    "                distance = vincenty(node_dic[x], node_dic[x + 1]).km * 100  # 미터단위\n",
    "                distance_list[cor_dic[node_dic[x]][0]][[cor_dic[node_dic[x + 1]][0]]] = distance\n",
    "                distance_list[cor_dic[node_dic[x+1]][0]][[cor_dic[node_dic[x]][0]]] = distance\n",
    "\n",
    "                # print(\"양방향\",\n",
    "                #       node_dic[x], cor_dic[node_dic[x]], node_dic[x + 1], cor_dic[node_dic[x + 1]],\"<->\" ,node_dic[x + 1], cor_dic[node_dic[x + 1]],node_dic[x], cor_dic[node_dic[x]]\n",
    "                #       )\n",
    "            x += 1"
   ]
  },
  {
   "cell_type": "code",
   "execution_count": 9,
   "metadata": {},
   "outputs": [],
   "source": [
    "Arc_tuple_List = []\n",
    "for x,y in enumerate(arc_list):\n",
    "    for i,j in enumerate(y):\n",
    "        if arc_list[x,i] != False:\n",
    "            Arc_tuple_List.append((x,i))"
   ]
  },
  {
   "cell_type": "code",
   "execution_count": 10,
   "metadata": {
    "collapsed": true
   },
   "outputs": [
    {
     "data": {
      "text/plain": [
       "[(0, 1),\n (1, 2),\n (2, 3),\n (3, 4),\n (4, 5),\n (5, 6),\n (6, 7),\n (7, 8),\n (7, 16),\n (8, 9),\n (9, 10),\n (10, 11),\n (12, 13),\n (13, 14),\n (14, 15),\n (15, 16),\n (16, 17),\n (16, 33),\n (17, 18),\n (18, 19),\n (19, 20),\n (21, 22),\n (22, 23),\n (23, 24),\n (24, 25),\n (25, 26),\n (26, 27),\n (27, 28),\n (28, 29),\n (29, 7),\n (29, 37),\n (29, 40),\n (33, 34),\n (34, 35),\n (36, 37),\n (37, 29),\n (37, 36),\n (40, 41),\n (41, 42)]"
      ]
     },
     "execution_count": 10,
     "metadata": {},
     "output_type": "execute_result"
    }
   ],
   "source": [
    "Arc_tuple_List"
   ]
  },
  {
   "cell_type": "code",
   "execution_count": 11,
   "metadata": {},
   "outputs": [],
   "source": [
    "G = nx.MultiGraph()\n",
    "G.add_nodes_from(node_dic)\n",
    "G.add_edges_from(Arc_tuple_List)"
   ]
  },
  {
   "cell_type": "code",
   "execution_count": 16,
   "metadata": {},
   "outputs": [],
   "source": [
    "nx.draw(G, pos=node_dic,with_labels=True, node_size = 300, \n",
    "        width=0.3)"
   ]
  },
  {
   "cell_type": "code",
   "execution_count": 17,
   "metadata": {},
   "outputs": [
    {
     "data": {
      "image/png": "[encoded data removed]",
      "text/plain": [
       "<matplotlib.figure.Figure at 0x1db0eada390>"
      ]
     },
     "metadata": {},
     "output_type": "display_data"
    }
   ],
   "source": [
    "plt.show()"
   ]
  },
  {
   "cell_type": "code",
   "execution_count": null,
   "metadata": {},
   "outputs": [],
   "source": [
    ""
   ]
  }
 ],
 "metadata": {
  "kernelspec": {
   "display_name": "Python 2",
   "language": "python",
   "name": "python2"
  },
  "language_info": {
   "codemirror_mode": {
    "name": "ipython",
    "version": 2.0
   },
   "file_extension": ".py",
   "mimetype": "text/x-python",
   "name": "python",
   "nbconvert_exporter": "python",
   "pygments_lexer": "ipython2",
   "version": "2.7.6"
  }
 },
 "nbformat": 4,
 "nbformat_minor": 0
}